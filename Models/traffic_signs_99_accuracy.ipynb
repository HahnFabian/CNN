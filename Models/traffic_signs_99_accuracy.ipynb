{
 "cells": [
  {
   "cell_type": "code",
   "execution_count": 2,
   "metadata": {},
   "outputs": [],
   "source": [
    "import tensorflow as tf\n",
    "from tensorflow.keras.layers import Dense, Flatten, Dropout, Rescaling, Conv2D, MaxPooling2D, InputLayer\n",
    "from tensorflow.keras.models import Sequential\n",
    "import numpy as np\n",
    "import matplotlib.pyplot as plt"
   ]
  },
  {
   "cell_type": "code",
   "execution_count": 3,
   "metadata": {},
   "outputs": [
    {
     "name": "stdout",
     "output_type": "stream",
     "text": [
      "Found 39209 files belonging to 43 classes.\n",
      "Using 31368 files for training.\n",
      "Found 39209 files belonging to 43 classes.\n",
      "Using 7841 files for validation.\n",
      "43\n"
     ]
    }
   ],
   "source": [
    "path = \"C:/Users/maxis/Desktop/Proseminar - CNN/archive/Train\"\n",
    "im_size = (32, 32)\n",
    "\n",
    "train = tf.keras.preprocessing.image_dataset_from_directory(\n",
    "    path,\n",
    "    image_size=im_size,\n",
    "    validation_split=0.2,\n",
    "    seed=123,\n",
    "    subset=\"training\",\n",
    "    batch_size=64\n",
    ")\n",
    "val = tf.keras.preprocessing.image_dataset_from_directory(\n",
    "    path,\n",
    "    image_size=im_size,\n",
    "    validation_split=0.2,\n",
    "    seed=123,\n",
    "    subset=\"validation\",\n",
    "    batch_size=64\n",
    ")\n",
    "\n",
    "classes = train.class_names\n",
    "print(len(classes))"
   ]
  },
  {
   "cell_type": "code",
   "execution_count": 4,
   "metadata": {},
   "outputs": [
    {
     "name": "stdout",
     "output_type": "stream",
     "text": [
      "Model: \"sequential\"\n",
      "_________________________________________________________________\n",
      " Layer (type)                Output Shape              Param #   \n",
      "=================================================================\n",
      " rescaling (Rescaling)       (None, 32, 32, 3)         0         \n",
      "                                                                 \n",
      " conv2d (Conv2D)             (None, 30, 30, 32)        896       \n",
      "                                                                 \n",
      " max_pooling2d (MaxPooling2D  (None, 15, 15, 32)       0         \n",
      " )                                                               \n",
      "                                                                 \n",
      " conv2d_1 (Conv2D)           (None, 13, 13, 64)        18496     \n",
      "                                                                 \n",
      " max_pooling2d_1 (MaxPooling  (None, 6, 6, 64)         0         \n",
      " 2D)                                                             \n",
      "                                                                 \n",
      " conv2d_2 (Conv2D)           (None, 4, 4, 64)          36928     \n",
      "                                                                 \n",
      " max_pooling2d_2 (MaxPooling  (None, 2, 2, 64)         0         \n",
      " 2D)                                                             \n",
      "                                                                 \n",
      " flatten (Flatten)           (None, 256)               0         \n",
      "                                                                 \n",
      " dense (Dense)               (None, 128)               32896     \n",
      "                                                                 \n",
      " dense_1 (Dense)             (None, 43)                5547      \n",
      "                                                                 \n",
      "=================================================================\n",
      "Total params: 94,763\n",
      "Trainable params: 94,763\n",
      "Non-trainable params: 0\n",
      "_________________________________________________________________\n"
     ]
    }
   ],
   "source": [
    "model = Sequential([\n",
    "    InputLayer((32, 32, 3)),\n",
    "    tf.keras.layers.experimental.preprocessing.Rescaling(1./255),\n",
    "    Conv2D(32, (3,3), activation='relu'),\n",
    "    MaxPooling2D(),\n",
    "\n",
    "    Conv2D(64, (3,3), activation='relu'),\n",
    "    MaxPooling2D(),\n",
    "\n",
    "    Conv2D(64, (3,3), activation='relu'),\n",
    "    MaxPooling2D(),\n",
    "\n",
    "    Flatten(),\n",
    "    Dense(128, activation='relu'),\n",
    "    Dense(len(classes), activation='softmax')\n",
    "])\n",
    "\n",
    "model.compile(\n",
    "    optimizer=tf.keras.optimizers.Adam(),\n",
    "    loss=tf.keras.losses.sparse_categorical_crossentropy,\n",
    "    metrics=['accuracy']\n",
    ")\n",
    "\n",
    "model.summary()"
   ]
  },
  {
   "cell_type": "code",
   "execution_count": 7,
   "metadata": {},
   "outputs": [
    {
     "name": "stdout",
     "output_type": "stream",
     "text": [
      "Epoch 1/10\n",
      "491/491 [==============================] - 6s 12ms/step - loss: 0.0507 - accuracy: 0.9861 - val_loss: 0.1055 - val_accuracy: 0.9723\n",
      "Epoch 2/10\n",
      "491/491 [==============================] - 6s 12ms/step - loss: 0.0418 - accuracy: 0.9881 - val_loss: 0.0689 - val_accuracy: 0.9829\n",
      "Epoch 3/10\n",
      "491/491 [==============================] - 6s 12ms/step - loss: 0.0308 - accuracy: 0.9910 - val_loss: 0.0607 - val_accuracy: 0.9857\n",
      "Epoch 4/10\n",
      "491/491 [==============================] - 6s 12ms/step - loss: 0.0289 - accuracy: 0.9915 - val_loss: 0.0751 - val_accuracy: 0.9824\n",
      "Epoch 5/10\n",
      "491/491 [==============================] - 6s 12ms/step - loss: 0.0239 - accuracy: 0.9926 - val_loss: 0.0590 - val_accuracy: 0.9870\n",
      "Epoch 6/10\n",
      "491/491 [==============================] - 6s 12ms/step - loss: 0.0135 - accuracy: 0.9962 - val_loss: 0.0644 - val_accuracy: 0.9867\n",
      "Epoch 7/10\n",
      "491/491 [==============================] - 6s 12ms/step - loss: 0.0197 - accuracy: 0.9938 - val_loss: 0.0523 - val_accuracy: 0.9903\n",
      "Epoch 8/10\n",
      "491/491 [==============================] - 6s 12ms/step - loss: 0.0234 - accuracy: 0.9932 - val_loss: 0.0637 - val_accuracy: 0.9870\n",
      "Epoch 9/10\n",
      "491/491 [==============================] - 6s 12ms/step - loss: 0.0118 - accuracy: 0.9968 - val_loss: 0.0558 - val_accuracy: 0.9908\n",
      "Epoch 10/10\n",
      "491/491 [==============================] - 6s 12ms/step - loss: 0.0143 - accuracy: 0.9961 - val_loss: 0.0565 - val_accuracy: 0.9903\n"
     ]
    },
    {
     "data": {
      "text/plain": [
       "<keras.callbacks.History at 0x22be567e080>"
      ]
     },
     "execution_count": 7,
     "metadata": {},
     "output_type": "execute_result"
    }
   ],
   "source": [
    "model.fit(train, validation_data=val, epochs=10)"
   ]
  },
  {
   "cell_type": "code",
   "execution_count": 21,
   "metadata": {},
   "outputs": [
    {
     "data": {
      "image/png": "[encoded data removed]",
      "text/plain": [
       "<Figure size 640x480 with 1 Axes>"
      ]
     },
     "metadata": {},
     "output_type": "display_data"
    },
    {
     "name": "stdout",
     "output_type": "stream",
     "text": [
      "1/1 [==============================] - 0s 12ms/step\n",
      "Double curve\n"
     ]
    }
   ],
   "source": [
    "img = tf.keras.preprocessing.image.load_img(\"C:/Users/maxis/Desktop/Proseminar - CNN/archive/Test/00016.png\", target_size=(32,32))\n",
    "plt.imshow(img)\n",
    "plt.show()\n",
    "\n",
    "img = tf.keras.preprocessing.image.img_to_array(img)\n",
    "img = np.expand_dims(img, axis=0)\n",
    "\n",
    "prediction = model.predict(img)\n",
    "print(classes[np.argmax(prediction)])\n",
    "\n"
   ]
  },
  {
   "cell_type": "code",
   "execution_count": 22,
   "metadata": {},
   "outputs": [
    {
     "name": "stderr",
     "output_type": "stream",
     "text": [
      "WARNING:absl:Found untraced functions such as _jit_compiled_convolution_op, _jit_compiled_convolution_op, _jit_compiled_convolution_op while saving (showing 3 of 3). These functions will not be directly callable after loading.\n"
     ]
    },
    {
     "name": "stdout",
     "output_type": "stream",
     "text": [
      "INFO:tensorflow:Assets written to: traffic_signs_99_Accuracy\\assets\n"
     ]
    },
    {
     "name": "stderr",
     "output_type": "stream",
     "text": [
      "INFO:tensorflow:Assets written to: traffic_signs_99_Accuracy\\assets\n"
     ]
    }
   ],
   "source": [
    "model.save(\"traffic_signs_99_Accuracy\")"
   ]
  }
 ],
 "metadata": {
  "kernelspec": {
   "display_name": "Python 3.10.0 64-bit",
   "language": "python",
   "name": "python3"
  },
  "language_info": {
   "codemirror_mode": {
    "name": "ipython",
    "version": 3
   },
   "file_extension": ".py",
   "mimetype": "text/x-python",
   "name": "python",
   "nbconvert_exporter": "python",
   "pygments_lexer": "ipython3",
   "version": "3.10.0"
  },
  "orig_nbformat": 4,
  "vscode": {
   "interpreter": {
    "hash": "d1d9cf5f4620a3016799017b13f89ccebc1fb2a75f7573d447aad85190aea6ad"
   }
  }
 },
 "nbformat": 4,
 "nbformat_minor": 2
}
