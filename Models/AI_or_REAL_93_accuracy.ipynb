{
 "cells": [
  {
   "cell_type": "code",
   "execution_count": 6,
   "metadata": {},
   "outputs": [],
   "source": [
    "import tensorflow as tf\n",
    "from tensorflow.keras.layers import InputLayer, Conv2D, MaxPooling2D, Dense, Rescaling, Flatten, Dropout\n",
    "from tensorflow.keras.models import Sequential\n",
    "import numpy as np\n",
    "import matplotlib.pyplot as plt\n",
    "import os"
   ]
  },
  {
   "cell_type": "code",
   "execution_count": 4,
   "metadata": {},
   "outputs": [
    {
     "name": "stdout",
     "output_type": "stream",
     "text": [
      "Found 100000 files belonging to 2 classes.\n",
      "Using 80000 files for training.\n",
      "Found 100000 files belonging to 2 classes.\n",
      "Using 20000 files for validation.\n",
      "2\n"
     ]
    }
   ],
   "source": [
    "im_size = (32,32)\n",
    "batch_size = 128\n",
    "path = \"C:/Users/maxis/Desktop/Proseminar - CNN/Data/AI or Real/archive/train\"\n",
    "\n",
    "train = tf.keras.preprocessing.image_dataset_from_directory(\n",
    "    path,\n",
    "    image_size=im_size,\n",
    "    validation_split=0.2,\n",
    "    seed=123,\n",
    "    subset=\"training\",\n",
    "    batch_size=batch_size\n",
    ")\n",
    "val = tf.keras.preprocessing.image_dataset_from_directory(\n",
    "    path,\n",
    "    image_size=im_size,\n",
    "    validation_split=0.2,\n",
    "    seed=123,\n",
    "    subset=\"validation\",\n",
    "    batch_size=batch_size\n",
    ")\n",
    "\n",
    "classes = train.class_names\n",
    "print(len(classes))"
   ]
  },
  {
   "cell_type": "code",
   "execution_count": 51,
   "metadata": {},
   "outputs": [
    {
     "name": "stdout",
     "output_type": "stream",
     "text": [
      "Model: \"sequential_11\"\n",
      "_________________________________________________________________\n",
      " Layer (type)                Output Shape              Param #   \n",
      "=================================================================\n",
      " rescaling_13 (Rescaling)    (None, 32, 32, 3)         0         \n",
      "                                                                 \n",
      " conv2d_39 (Conv2D)          (None, 30, 30, 32)        896       \n",
      "                                                                 \n",
      " dropout_14 (Dropout)        (None, 30, 30, 32)        0         \n",
      "                                                                 \n",
      " max_pooling2d_37 (MaxPoolin  (None, 15, 15, 32)       0         \n",
      " g2D)                                                            \n",
      "                                                                 \n",
      " conv2d_40 (Conv2D)          (None, 13, 13, 64)        18496     \n",
      "                                                                 \n",
      " dropout_15 (Dropout)        (None, 13, 13, 64)        0         \n",
      "                                                                 \n",
      " max_pooling2d_38 (MaxPoolin  (None, 6, 6, 64)         0         \n",
      " g2D)                                                            \n",
      "                                                                 \n",
      " conv2d_41 (Conv2D)          (None, 4, 4, 64)          36928     \n",
      "                                                                 \n",
      " max_pooling2d_39 (MaxPoolin  (None, 2, 2, 64)         0         \n",
      " g2D)                                                            \n",
      "                                                                 \n",
      " flatten_11 (Flatten)        (None, 256)               0         \n",
      "                                                                 \n",
      " dense_22 (Dense)            (None, 64)                16448     \n",
      "                                                                 \n",
      " dense_23 (Dense)            (None, 2)                 130       \n",
      "                                                                 \n",
      "=================================================================\n",
      "Total params: 72,898\n",
      "Trainable params: 72,898\n",
      "Non-trainable params: 0\n",
      "_________________________________________________________________\n"
     ]
    }
   ],
   "source": [
    "model = Sequential([\n",
    "    InputLayer((32, 32, 3)),\n",
    "    tf.keras.layers.experimental.preprocessing.Rescaling(1./255),\n",
    "    Conv2D(32, (3,3), activation='relu'),\n",
    "    Dropout(0.25),\n",
    "    MaxPooling2D(),\n",
    "\n",
    "    Conv2D(64, (3,3), activation='relu'),\n",
    "    Dropout(0.25),\n",
    "    MaxPooling2D(),\n",
    "\n",
    "    Conv2D(64, (3,3), activation='relu'),\n",
    "    MaxPooling2D(),\n",
    "\n",
    "    Flatten(),\n",
    "    Dense(64, activation='relu'),\n",
    "    Dense(2, activation='sigmoid')\n",
    "])\n",
    "\n",
    "model.compile(\n",
    "    optimizer='adam',\n",
    "    loss='sparse_categorical_crossentropy',\n",
    "    metrics=['accuracy']\n",
    ")\n",
    "\n",
    "model.summary()"
   ]
  },
  {
   "cell_type": "code",
   "execution_count": 52,
   "metadata": {},
   "outputs": [
    {
     "name": "stdout",
     "output_type": "stream",
     "text": [
      "Epoch 1/10\n",
      "625/625 [==============================] - 11s 17ms/step - loss: 0.3965 - accuracy: 0.8176 - val_loss: 0.3304 - val_accuracy: 0.8656\n",
      "Epoch 2/10\n",
      "625/625 [==============================] - 10s 16ms/step - loss: 0.2660 - accuracy: 0.8892 - val_loss: 0.2773 - val_accuracy: 0.8891\n",
      "Epoch 3/10\n",
      "625/625 [==============================] - 10s 16ms/step - loss: 0.2350 - accuracy: 0.9047 - val_loss: 0.2357 - val_accuracy: 0.9080\n",
      "Epoch 4/10\n",
      "625/625 [==============================] - 10s 16ms/step - loss: 0.2085 - accuracy: 0.9159 - val_loss: 0.2114 - val_accuracy: 0.9197\n",
      "Epoch 5/10\n",
      "625/625 [==============================] - 10s 16ms/step - loss: 0.1974 - accuracy: 0.9206 - val_loss: 0.2041 - val_accuracy: 0.9234\n",
      "Epoch 6/10\n",
      "625/625 [==============================] - 10s 16ms/step - loss: 0.1838 - accuracy: 0.9265 - val_loss: 0.2238 - val_accuracy: 0.9107\n",
      "Epoch 7/10\n",
      "625/625 [==============================] - 10s 16ms/step - loss: 0.1749 - accuracy: 0.9306 - val_loss: 0.1963 - val_accuracy: 0.9280\n",
      "Epoch 8/10\n",
      "625/625 [==============================] - 10s 16ms/step - loss: 0.1667 - accuracy: 0.9343 - val_loss: 0.1913 - val_accuracy: 0.9270\n",
      "Epoch 9/10\n",
      "625/625 [==============================] - 10s 16ms/step - loss: 0.1596 - accuracy: 0.9362 - val_loss: 0.1773 - val_accuracy: 0.9340\n",
      "Epoch 10/10\n",
      "625/625 [==============================] - 10s 16ms/step - loss: 0.1527 - accuracy: 0.9395 - val_loss: 0.1818 - val_accuracy: 0.9316\n"
     ]
    },
    {
     "data": {
      "text/plain": [
       "<keras.callbacks.History at 0x19e192fa470>"
      ]
     },
     "execution_count": 52,
     "metadata": {},
     "output_type": "execute_result"
    }
   ],
   "source": [
    "model.fit(train, validation_data=val, epochs=10)"
   ]
  },
  {
   "cell_type": "code",
   "execution_count": 66,
   "metadata": {},
   "outputs": [
    {
     "data": {
      "image/png": "[encoded data removed]",
      "text/plain": [
       "<Figure size 640x480 with 1 Axes>"
      ]
     },
     "metadata": {},
     "output_type": "display_data"
    },
    {
     "name": "stdout",
     "output_type": "stream",
     "text": [
      "1/1 [==============================] - 0s 19ms/step\n",
      "FAKE\n"
     ]
    }
   ],
   "source": [
    "img = tf.keras.preprocessing.image.load_img(\"C:/Users/maxis/Desktop/Proseminar - CNN/Data/AI or Real/archive/test/FAKE/1.jpg\", target_size=(32,32))\n",
    "plt.imshow(img)\n",
    "plt.show()\n",
    "\n",
    "img = tf.keras.preprocessing.image.img_to_array(img)\n",
    "img = np.expand_dims(img, axis=0)\n",
    "\n",
    "prediction = model.predict(img)\n",
    "print(classes[np.argmax(prediction)])"
   ]
  },
  {
   "cell_type": "code",
   "execution_count": 67,
   "metadata": {},
   "outputs": [],
   "source": [
    "model.save(os.path.join(\"C:/Users/maxis/Desktop/Proseminar - CNN/Models\",\"AI_or_REAL_93_accuracy.h5\"))"
   ]
  }
 ],
 "metadata": {
  "kernelspec": {
   "display_name": "Python 3.10.0 64-bit",
   "language": "python",
   "name": "python3"
  },
  "language_info": {
   "codemirror_mode": {
    "name": "ipython",
    "version": 3
   },
   "file_extension": ".py",
   "mimetype": "text/x-python",
   "name": "python",
   "nbconvert_exporter": "python",
   "pygments_lexer": "ipython3",
   "version": "3.10.0"
  },
  "orig_nbformat": 4,
  "vscode": {
   "interpreter": {
    "hash": "d1d9cf5f4620a3016799017b13f89ccebc1fb2a75f7573d447aad85190aea6ad"
   }
  }
 },
 "nbformat": 4,
 "nbformat_minor": 2
}
